{
 "cells": [
  {
   "cell_type": "code",
   "execution_count": 1,
   "metadata": {},
   "outputs": [
    {
     "name": "stdout",
     "output_type": "stream",
     "text": [
      "Requirement already satisfied: finance-datareader in c:\\users\\gustj\\appdata\\local\\programs\\python\\python310\\lib\\site-packages (0.9.93)\n",
      "Requirement already satisfied: pandas>=0.19.2 in c:\\users\\gustj\\appdata\\local\\programs\\python\\python310\\lib\\site-packages (from finance-datareader) (2.2.1)\n",
      "Requirement already satisfied: requests>=2.3.0 in c:\\users\\gustj\\appdata\\local\\programs\\python\\python310\\lib\\site-packages (from finance-datareader) (2.31.0)\n",
      "Requirement already satisfied: requests-file in c:\\users\\gustj\\appdata\\local\\programs\\python\\python310\\lib\\site-packages (from finance-datareader) (2.1.0)\n",
      "Requirement already satisfied: lxml in c:\\users\\gustj\\appdata\\local\\programs\\python\\python310\\lib\\site-packages (from finance-datareader) (5.2.2)\n",
      "Requirement already satisfied: tqdm in c:\\users\\gustj\\appdata\\local\\programs\\python\\python310\\lib\\site-packages (from finance-datareader) (4.66.4)\n",
      "Requirement already satisfied: numpy<2,>=1.22.4 in c:\\users\\gustj\\appdata\\local\\programs\\python\\python310\\lib\\site-packages (from pandas>=0.19.2->finance-datareader) (1.26.4)\n",
      "Requirement already satisfied: python-dateutil>=2.8.2 in c:\\users\\gustj\\appdata\\local\\programs\\python\\python310\\lib\\site-packages (from pandas>=0.19.2->finance-datareader) (2.8.2)\n",
      "Requirement already satisfied: pytz>=2020.1 in c:\\users\\gustj\\appdata\\local\\programs\\python\\python310\\lib\\site-packages (from pandas>=0.19.2->finance-datareader) (2024.1)\n",
      "Requirement already satisfied: tzdata>=2022.7 in c:\\users\\gustj\\appdata\\local\\programs\\python\\python310\\lib\\site-packages (from pandas>=0.19.2->finance-datareader) (2024.1)\n",
      "Requirement already satisfied: charset-normalizer<4,>=2 in c:\\users\\gustj\\appdata\\local\\programs\\python\\python310\\lib\\site-packages (from requests>=2.3.0->finance-datareader) (3.3.2)\n",
      "Requirement already satisfied: idna<4,>=2.5 in c:\\users\\gustj\\appdata\\local\\programs\\python\\python310\\lib\\site-packages (from requests>=2.3.0->finance-datareader) (3.6)\n",
      "Requirement already satisfied: urllib3<3,>=1.21.1 in c:\\users\\gustj\\appdata\\local\\programs\\python\\python310\\lib\\site-packages (from requests>=2.3.0->finance-datareader) (1.26.19)\n",
      "Requirement already satisfied: certifi>=2017.4.17 in c:\\users\\gustj\\appdata\\local\\programs\\python\\python310\\lib\\site-packages (from requests>=2.3.0->finance-datareader) (2024.2.2)\n",
      "Requirement already satisfied: colorama in c:\\users\\gustj\\appdata\\local\\programs\\python\\python310\\lib\\site-packages (from tqdm->finance-datareader) (0.4.6)\n",
      "Requirement already satisfied: six>=1.5 in c:\\users\\gustj\\appdata\\local\\programs\\python\\python310\\lib\\site-packages (from python-dateutil>=2.8.2->pandas>=0.19.2->finance-datareader) (1.16.0)\n"
     ]
    }
   ],
   "source": [
    "# 패키지 설치\n",
    "!pip install finance-datareader"
   ]
  },
  {
   "cell_type": "code",
   "execution_count": 10,
   "metadata": {},
   "outputs": [
    {
     "name": "stdout",
     "output_type": "stream",
     "text": [
      "Error processing date '2024-08-28 15:56': Out of bounds nanosecond timestamp: 9223430160000000000\n",
      "Error processing date '2024-08-28 16:23': Out of bounds nanosecond timestamp: 9223431780000000000\n",
      "Error processing date '2024-08-28 16:46': Out of bounds nanosecond timestamp: 9223433160000000000\n",
      "Error processing date '2024-08-28 16:47': Out of bounds nanosecond timestamp: 9223433220000000000\n",
      "Error processing date '2024-08-28 17:58': Out of bounds nanosecond timestamp: 9223437480000000000\n",
      "Error processing date '2024-08-28 18:03': Out of bounds nanosecond timestamp: 9223437780000000000\n",
      "Error processing date '2024-08-28 18:05': Out of bounds nanosecond timestamp: 9223437900000000000\n",
      "날짜 변환 완료\n"
     ]
    }
   ],
   "source": [
    "# date 변환\n",
    "import pandas as pd\n",
    "import FinanceDataReader as fdr\n",
    "from datetime import timedelta\n",
    "import os\n",
    "\n",
    "ticker = '005930'   # 삼성전자 티커가 005930!\n",
    "start_year = 2015\n",
    "end_year = 2024\n",
    "start_date = f'{start_year}-01-01'\n",
    "end_date = '2024-08-29'\n",
    "stock_data = fdr.DataReader(ticker, start_date, end_date)\n",
    "valid_dates = stock_data.index.date\n",
    "\n",
    "# 기사 날짜 조정 함수\n",
    "def adjust_news_dates(row):\n",
    "    try:\n",
    "        # 문자열 형식을 datetime으로 변환\n",
    "        article_datetime = pd.to_datetime(row['date'])\n",
    "        \n",
    "        # 16시 이상 또는 15시 20분 이상인 경우 다음 날로 조정\n",
    "        if (article_datetime.hour > 15) or (article_datetime.hour == 15 and article_datetime.minute >= 20):\n",
    "            article_datetime += timedelta(days=1)\n",
    "        \n",
    "        # 주식 데이터 인덱스에 있는 날짜 찾기\n",
    "        while article_datetime.date() not in valid_dates:\n",
    "            article_datetime += timedelta(days=1)\n",
    "            # fdr의 stock_data.index.date에 없으면 다음날로 배정\n",
    "        \n",
    "        return article_datetime.date()\n",
    "    \n",
    "    except Exception as e:  # 예외처리\n",
    "        print(f\"Error processing date '{row['date']}': {e}\")\n",
    "        return None   # 잘못된 날짜는 None으로 반환\n",
    "\n",
    "news_df = pd.read_csv('final_매일경제.csv')\n",
    "\n",
    "# 기사 날짜 조정\n",
    "news_df['adjusted_date'] = news_df.apply(adjust_news_dates, axis=1)\n",
    "\n",
    "# csv 파일로 내보내기\n",
    "output_filename = 'date_scaled_매일경제.csv'\n",
    "news_df.to_csv(output_filename, index=False, encoding='utf-8-sig')\n",
    "\n",
    "print(\"날짜 변환 완료\")"
   ]
  },
  {
   "cell_type": "code",
   "execution_count": 11,
   "metadata": {},
   "outputs": [
    {
     "data": {
      "text/html": [
       "<div>\n",
       "<style scoped>\n",
       "    .dataframe tbody tr th:only-of-type {\n",
       "        vertical-align: middle;\n",
       "    }\n",
       "\n",
       "    .dataframe tbody tr th {\n",
       "        vertical-align: top;\n",
       "    }\n",
       "\n",
       "    .dataframe thead th {\n",
       "        text-align: right;\n",
       "    }\n",
       "</style>\n",
       "<table border=\"1\" class=\"dataframe\">\n",
       "  <thead>\n",
       "    <tr style=\"text-align: right;\">\n",
       "      <th>label</th>\n",
       "      <th>0</th>\n",
       "      <th>1</th>\n",
       "      <th>2</th>\n",
       "    </tr>\n",
       "    <tr>\n",
       "      <th>adjusted_date</th>\n",
       "      <th></th>\n",
       "      <th></th>\n",
       "      <th></th>\n",
       "    </tr>\n",
       "  </thead>\n",
       "  <tbody>\n",
       "    <tr>\n",
       "      <th>2015-01-02</th>\n",
       "      <td>0.312500</td>\n",
       "      <td>0.437500</td>\n",
       "      <td>0.250000</td>\n",
       "    </tr>\n",
       "    <tr>\n",
       "      <th>2015-01-05</th>\n",
       "      <td>0.444444</td>\n",
       "      <td>0.222222</td>\n",
       "      <td>0.333333</td>\n",
       "    </tr>\n",
       "    <tr>\n",
       "      <th>2015-01-06</th>\n",
       "      <td>0.214286</td>\n",
       "      <td>0.571429</td>\n",
       "      <td>0.214286</td>\n",
       "    </tr>\n",
       "    <tr>\n",
       "      <th>2015-01-07</th>\n",
       "      <td>0.307692</td>\n",
       "      <td>0.153846</td>\n",
       "      <td>0.538462</td>\n",
       "    </tr>\n",
       "    <tr>\n",
       "      <th>2015-01-08</th>\n",
       "      <td>0.400000</td>\n",
       "      <td>0.533333</td>\n",
       "      <td>0.066667</td>\n",
       "    </tr>\n",
       "    <tr>\n",
       "      <th>...</th>\n",
       "      <td>...</td>\n",
       "      <td>...</td>\n",
       "      <td>...</td>\n",
       "    </tr>\n",
       "    <tr>\n",
       "      <th>2024-08-22</th>\n",
       "      <td>0.250000</td>\n",
       "      <td>0.750000</td>\n",
       "      <td>0.000000</td>\n",
       "    </tr>\n",
       "    <tr>\n",
       "      <th>2024-08-23</th>\n",
       "      <td>0.000000</td>\n",
       "      <td>0.833333</td>\n",
       "      <td>0.166667</td>\n",
       "    </tr>\n",
       "    <tr>\n",
       "      <th>2024-08-26</th>\n",
       "      <td>0.000000</td>\n",
       "      <td>0.833333</td>\n",
       "      <td>0.166667</td>\n",
       "    </tr>\n",
       "    <tr>\n",
       "      <th>2024-08-27</th>\n",
       "      <td>0.375000</td>\n",
       "      <td>0.500000</td>\n",
       "      <td>0.125000</td>\n",
       "    </tr>\n",
       "    <tr>\n",
       "      <th>2024-08-28</th>\n",
       "      <td>0.166667</td>\n",
       "      <td>0.333333</td>\n",
       "      <td>0.500000</td>\n",
       "    </tr>\n",
       "  </tbody>\n",
       "</table>\n",
       "<p>2377 rows × 3 columns</p>\n",
       "</div>"
      ],
      "text/plain": [
       "label                 0         1         2\n",
       "adjusted_date                              \n",
       "2015-01-02     0.312500  0.437500  0.250000\n",
       "2015-01-05     0.444444  0.222222  0.333333\n",
       "2015-01-06     0.214286  0.571429  0.214286\n",
       "2015-01-07     0.307692  0.153846  0.538462\n",
       "2015-01-08     0.400000  0.533333  0.066667\n",
       "...                 ...       ...       ...\n",
       "2024-08-22     0.250000  0.750000  0.000000\n",
       "2024-08-23     0.000000  0.833333  0.166667\n",
       "2024-08-26     0.000000  0.833333  0.166667\n",
       "2024-08-27     0.375000  0.500000  0.125000\n",
       "2024-08-28     0.166667  0.333333  0.500000\n",
       "\n",
       "[2377 rows x 3 columns]"
      ]
     },
     "execution_count": 11,
     "metadata": {},
     "output_type": "execute_result"
    }
   ],
   "source": [
    "count_df = news_df.groupby(['adjusted_date', 'label']).size().unstack(fill_value=0)\n",
    "ratio_df = count_df.div(count_df.sum(axis=1), axis=0); ratio_df"
   ]
  },
  {
   "cell_type": "code",
   "execution_count": 13,
   "metadata": {},
   "outputs": [],
   "source": [
    "ratio_df.columns = ['neutral','positive','negative']"
   ]
  },
  {
   "cell_type": "code",
   "execution_count": 15,
   "metadata": {},
   "outputs": [],
   "source": [
    "ratio_df.to_csv('new_sentiment_data.csv', encoding='utf-8-sig')"
   ]
  },
  {
   "cell_type": "markdown",
   "metadata": {},
   "source": [
    "# 굿"
   ]
  }
 ],
 "metadata": {
  "kernelspec": {
   "display_name": "Python 3 (ipykernel)",
   "language": "python",
   "name": "python3"
  },
  "language_info": {
   "codemirror_mode": {
    "name": "ipython",
    "version": 3
   },
   "file_extension": ".py",
   "mimetype": "text/x-python",
   "name": "python",
   "nbconvert_exporter": "python",
   "pygments_lexer": "ipython3",
   "version": "3.10.11"
  }
 },
 "nbformat": 4,
 "nbformat_minor": 4
}
